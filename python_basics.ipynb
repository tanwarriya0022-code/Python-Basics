{
  "nbformat": 4,
  "nbformat_minor": 0,
  "metadata": {
    "colab": {
      "provenance": []
    },
    "kernelspec": {
      "name": "python3",
      "display_name": "Python 3"
    },
    "language_info": {
      "name": "python"
    }
  },
  "cells": [
    {
      "cell_type": "markdown",
      "source": [
        "# THEORITICAL QUESTIONS\n"
      ],
      "metadata": {
        "id": "ZiqNpQSrDsM5"
      }
    },
    {
      "cell_type": "markdown",
      "source": [
        "1. What is Python, and why is it popular?\n",
        "\n",
        "- Python is a high-level, interpreted, object-oriented programming language. It focuses on readability and simplicity, which makes it beginner-friendly.\n",
        "\n",
        "Created by Guido van Rossum in 1991.\n",
        "\n",
        "Popular because:\n",
        "\n",
        "Easy to learn and use – syntax is like plain English.\n",
        "\n",
        "Cross-platform – works on Windows, Mac, Linux.\n",
        "\n",
        "Versatile – used in web development, data analysis, AI, machine learning, game development, etc.\n",
        "\n",
        "Huge community and libraries – tons of support and ready-made tools."
      ],
      "metadata": {
        "id": "k2ejnx7Wiw2G"
      }
    },
    {
      "cell_type": "markdown",
      "source": [
        "2. What is an interpreter in Python?\n",
        "\n",
        "An interpreter is a program that reads and executes Python code line by line. Unlike compiled languages (like C or Java), Python doesn’t need compilation before running.\n",
        "\n",
        "Example: if you type print(\"Hello\") in the Python shell, the interpreter immediately runs it.\n",
        "\n",
        "Advantage: Easy to test and debug quickly."
      ],
      "metadata": {
        "id": "vgiUHCd0ir0A"
      }
    },
    {
      "cell_type": "markdown",
      "source": [
        "3.  What are pre-defined keywords in Python?\n",
        "\n",
        "Keywords are reserved words that have special meaning in Python and cannot be used as variable names.\n",
        "\n",
        "Examples: if, else, for, while, True, False, class, import, def.\n",
        "\n",
        "They define the structure and rules of Python code.\n"
      ],
      "metadata": {
        "id": "qfYywAchrZdy"
      }
    },
    {
      "cell_type": "markdown",
      "source": [
        "4.  Can keywords be used as variable names?\n",
        "\n",
        "No, keywords cannot be used as variable names because Python will get confused (they already have fixed meaning).\n",
        "\n",
        "Example:\n",
        "\n",
        "for = 5   # ❌ Error: 'for' is a keyword"
      ],
      "metadata": {
        "id": "xBfVI-z0rnsF"
      }
    },
    {
      "cell_type": "markdown",
      "source": [
        "5. What is mutability in Python?\n",
        "\n",
        "Mutability means whether an object’s value can be changed after it is created.\n",
        "\n",
        "If an object is mutable, we can modify it without creating a new object.\n",
        "\n",
        "Example:\n",
        "\n",
        "List → Mutable ([1, 2, 3] → [1, 4, 3]).\n",
        "\n",
        "String → Immutable (\"hello\" cannot be changed, only replaced)"
      ],
      "metadata": {
        "id": "T3GTjM3Trx9Q"
      }
    },
    {
      "cell_type": "markdown",
      "source": [
        "6. Why are lists mutable, but tuples are immutable?\n",
        "\n",
        "Lists are meant to store data that may change, so they allow operations like adding, removing, or replacing items.\n",
        "\n",
        "Tuples are meant for fixed data (like coordinates or constants), so Python makes them immutable for safety and efficiency.\n",
        "\n",
        "This immutability also allows tuples to be used as keys in dictionaries (lists cannot)"
      ],
      "metadata": {
        "id": "sfy6McQJr43N"
      }
    },
    {
      "cell_type": "markdown",
      "source": [
        "7. Difference between == and is operators in Python?\n",
        "\n",
        "== → checks if two objects have the same value.\n",
        "\n",
        "is → checks if two objects refer to the same memory location.\n",
        "\n",
        "Example:\n",
        "\n",
        "a = [1,2,3]\n",
        "b = [1,2,3]\n",
        "print(a == b)  # ✅ True (values are equal)\n",
        "print(a is b)  # ❌ False (different memory locations)\n"
      ],
      "metadata": {
        "id": "V_VuG_M8sKzr"
      }
    },
    {
      "cell_type": "markdown",
      "source": [
        "8. What are logical operators in Python?\n",
        "\n",
        "Logical operators are used to combine conditional statements.\n",
        "\n",
        "and → True if both conditions are true.\n",
        "\n",
        "or → True if at least one condition is true.\n",
        "\n",
        "not → reverses the condition.\n",
        "\n",
        "Example:\n",
        "\n",
        "x = 5\n",
        "print(x > 2 and x < 10)  # True\n",
        "print(x > 2 or x > 20)   # True\n",
        "print(not(x > 2))        # False"
      ],
      "metadata": {
        "id": "t79i4yy2sVJF"
      }
    },
    {
      "cell_type": "markdown",
      "source": [
        "9. What is type casting in Python?\n",
        "\n",
        "Type casting means converting one data type into another.\n",
        "\n",
        "Example:\n",
        "\n",
        "x = \"10\"\n",
        "y = int(x)   # string to integer\n",
        "print(y + 5) # 15\n"
      ],
      "metadata": {
        "id": "NXPWDPDfsbSn"
      }
    },
    {
      "cell_type": "markdown",
      "source": [
        "10. Difference between implicit and explicit type casting?\n",
        "\n",
        "Implicit casting (Type Conversion): Python automatically converts data type.\n",
        "\n",
        "Example: 3 + 4.5 → 7.5 (int is converted to float).\n",
        "\n",
        "Explicit casting: We manually change the type using functions like int(), float(), str().\n",
        "\n",
        "Example: int(\"5\") → 5."
      ],
      "metadata": {
        "id": "-cgNPpijshDE"
      }
    },
    {
      "cell_type": "markdown",
      "source": [
        "11. Purpose of conditional statements in Python?\n",
        "\n",
        "Conditional statements let a program make decisions. They control the flow of execution based on conditions.\n",
        "\n",
        "Examples:\n",
        "\n",
        "if → run a block if condition is true.\n",
        "\n",
        "if-else → choose between two options.\n",
        "\n",
        "if-elif-else → choose between multiple conditions."
      ],
      "metadata": {
        "id": "eF590rMasvUV"
      }
    },
    {
      "cell_type": "markdown",
      "source": [
        "12. How does the elif statement work?\n",
        "\n",
        "elif stands for else if.\n",
        "\n",
        "It checks multiple conditions in sequence.\n",
        "\n",
        "As soon as one condition is True, that block executes and the rest are skipped.\n",
        "\n",
        "Example:\n",
        "\n",
        "x = 10\n",
        "if x < 5:\n",
        "    print(\"Small\")\n",
        "elif x < 15:\n",
        "    print(\"Medium\")   # ✅ This runs\n",
        "else:\n",
        "    print(\"Large\")"
      ],
      "metadata": {
        "id": "Od1GgRh1sxUj"
      }
    },
    {
      "cell_type": "markdown",
      "source": [
        "13. Difference between for and while loops?\n",
        "\n",
        "for loop: used when the number of iterations is known.\n",
        "\n",
        "Example: looping over a list or a range.\n",
        "\n",
        "while loop: used when we don’t know how many times the loop will run, but we know the condition.\n",
        "\n",
        "Example: keep looping until a condition becomes False."
      ],
      "metadata": {
        "id": "yRDNpqnQs74c"
      }
    },
    {
      "cell_type": "markdown",
      "source": [
        "14. Scenario where while loop is better than for loop?\n",
        "\n",
        "A while loop is better when we don’t know the number of iterations in advance.\n",
        "\n",
        "Example: Asking the user for a password until they enter the correct one.\n",
        "\n",
        "password = \"\"\n",
        "while password != \"1234\":\n",
        "    password = input(\"Enter password: \")\n",
        "print(\"Access Granted\")"
      ],
      "metadata": {
        "id": "4U4JgzCetEad"
      }
    },
    {
      "cell_type": "markdown",
      "source": [
        "# PRACTICAL QUESTIONS"
      ],
      "metadata": {
        "id": "6Bk_r1cyDegg"
      }
    },
    {
      "cell_type": "markdown",
      "source": [
        "1. Write a Python program to print \"Hello, World!\""
      ],
      "metadata": {
        "id": "q2GU0jBEtPIm"
      }
    },
    {
      "cell_type": "code",
      "source": [
        "# Python program to print Hello, World!\n",
        "\n",
        "print(\"Hello, World!\")\n"
      ],
      "metadata": {
        "colab": {
          "base_uri": "https://localhost:8080/"
        },
        "id": "RYKg0Qbl8XB3",
        "outputId": "0465db97-3e34-4f6d-adeb-0c3839bb93cd"
      },
      "execution_count": 1,
      "outputs": [
        {
          "output_type": "stream",
          "name": "stdout",
          "text": [
            "Hello, World!\n"
          ]
        }
      ]
    },
    {
      "cell_type": "markdown",
      "source": [
        "2. Write a Python program that displays your name and age"
      ],
      "metadata": {
        "id": "v8HbQHQU-VJf"
      }
    },
    {
      "cell_type": "code",
      "source": [
        "# Python program to display name and age\n",
        "\n",
        "name = \"Riya\"   # Replace with your name\n",
        "age = 21           # Replace with your age\n",
        "\n",
        "print(\"My name is\", name)\n",
        "print(\"I am\", age, \"years old\")\n"
      ],
      "metadata": {
        "colab": {
          "base_uri": "https://localhost:8080/"
        },
        "id": "lAV2dpMS-uOL",
        "outputId": "3788c585-676a-48ba-cc2a-d36f6f93d4a9"
      },
      "execution_count": 2,
      "outputs": [
        {
          "output_type": "stream",
          "name": "stdout",
          "text": [
            "My name is Riya\n",
            "I am 21 years old\n"
          ]
        }
      ]
    },
    {
      "cell_type": "markdown",
      "source": [
        "3.  Write code to print all the pre-defined keywords in Python using the keyword library"
      ],
      "metadata": {
        "id": "NZrw163U-8ID"
      }
    },
    {
      "cell_type": "code",
      "source": [
        "# Program to print all Python keywords\n",
        "\n",
        "import keyword\n",
        "\n",
        "print(\"Python Keywords are:\\n\")\n",
        "print(keyword.kwlist)\n"
      ],
      "metadata": {
        "colab": {
          "base_uri": "https://localhost:8080/"
        },
        "id": "kt0xsj-k_Nx-",
        "outputId": "10e2340c-9536-4b26-c37b-5d4eaf505c21"
      },
      "execution_count": 3,
      "outputs": [
        {
          "output_type": "stream",
          "name": "stdout",
          "text": [
            "Python Keywords are:\n",
            "\n",
            "['False', 'None', 'True', 'and', 'as', 'assert', 'async', 'await', 'break', 'class', 'continue', 'def', 'del', 'elif', 'else', 'except', 'finally', 'for', 'from', 'global', 'if', 'import', 'in', 'is', 'lambda', 'nonlocal', 'not', 'or', 'pass', 'raise', 'return', 'try', 'while', 'with', 'yield']\n"
          ]
        }
      ]
    },
    {
      "cell_type": "markdown",
      "source": [
        "4. Write a program that checks if a given word is a Python keyword."
      ],
      "metadata": {
        "id": "C_squYbJ_TnO"
      }
    },
    {
      "cell_type": "code",
      "source": [
        "# Program to check if a word is a Python keyword\n",
        "\n",
        "import keyword\n",
        "\n",
        "# Take input from user\n",
        "word = input(\"Enter a word: \")\n",
        "\n",
        "# Check if it is a keyword\n",
        "if keyword.iskeyword(word):\n",
        "    print(f\"'{word}' is a Python keyword.\")\n",
        "else:\n",
        "    print(f\"'{word}' is NOT a Python keyword.\")\n"
      ],
      "metadata": {
        "colab": {
          "base_uri": "https://localhost:8080/"
        },
        "id": "liRVB9Db_lXz",
        "outputId": "de5582f5-06db-4d5e-d5ee-3e6c452d3845"
      },
      "execution_count": 6,
      "outputs": [
        {
          "output_type": "stream",
          "name": "stdout",
          "text": [
            "Enter a word: for\n",
            "'for' is a Python keyword.\n"
          ]
        }
      ]
    },
    {
      "cell_type": "markdown",
      "source": [
        "5.  Create a list and tuple in Python, and demonstrate how attempting to change an element works differently\n",
        "for each."
      ],
      "metadata": {
        "id": "hDIjQAU2AVyF"
      }
    },
    {
      "cell_type": "code",
      "source": [
        "# Creating a list and a tuple\n",
        "my_list = [10, 20, 30, 40]\n",
        "my_tuple = (10, 20, 30, 40)\n",
        "\n",
        "print(\"Original List:\", my_list)\n",
        "print(\"Original Tuple:\", my_tuple)\n",
        "\n",
        "# Modifying the list (allowed, since lists are mutable)\n",
        "my_list[1] = 99\n",
        "print(\"\\nAfter modifying list:\", my_list)\n",
        "\n",
        "# Trying to modify the tuple (not allowed, since tuples are immutable)\n",
        "try:\n",
        "    my_tuple[1] = 99\n",
        "except TypeError as e:\n",
        "    print(\"\\nError when modifying tuple:\", e)\n"
      ],
      "metadata": {
        "colab": {
          "base_uri": "https://localhost:8080/"
        },
        "id": "zTI0kmDbAceA",
        "outputId": "e23a3026-0789-44fd-d2ff-04df8e7bdadc"
      },
      "execution_count": 7,
      "outputs": [
        {
          "output_type": "stream",
          "name": "stdout",
          "text": [
            "Original List: [10, 20, 30, 40]\n",
            "Original Tuple: (10, 20, 30, 40)\n",
            "\n",
            "After modifying list: [10, 99, 30, 40]\n",
            "\n",
            "Error when modifying tuple: 'tuple' object does not support item assignment\n"
          ]
        }
      ]
    },
    {
      "cell_type": "markdown",
      "source": [
        "6. Write a function to demonstrate the behavior of mutable and immutable arguments."
      ],
      "metadata": {
        "id": "asibPlq0ArHj"
      }
    },
    {
      "cell_type": "code",
      "source": [
        "# Function to demonstrate mutable vs immutable arguments\n",
        "def modify_values(num, my_list):\n",
        "    print(\"Inside function before modification:\")\n",
        "    print(\"num =\", num)\n",
        "    print(\"my_list =\", my_list)\n",
        "\n",
        "    # Modify the integer (immutable)\n",
        "    num += 10   # creates a new integer object\n",
        "\n",
        "    # Modify the list (mutable)\n",
        "    my_list.append(100)  # modifies the original list\n",
        "\n",
        "    print(\"\\nInside function after modification:\")\n",
        "    print(\"num =\", num)\n",
        "    print(\"my_list =\", my_list)\n",
        "\n",
        "\n",
        "# Main program\n",
        "number = 50\n",
        "numbers_list = [1, 2, 3]\n",
        "\n",
        "print(\"Before calling function:\")\n",
        "print(\"number =\", number)\n",
        "print(\"numbers_list =\", numbers_list)\n",
        "\n",
        "modify_values(number, numbers_list)\n",
        "\n",
        "print(\"\\nAfter calling function:\")\n",
        "print(\"number =\", number)           # unchanged, because integers are immutable\n",
        "print(\"numbers_list =\", numbers_list)  # changed, because lists are mutable\n"
      ],
      "metadata": {
        "colab": {
          "base_uri": "https://localhost:8080/"
        },
        "id": "QCbf1WFwA6aD",
        "outputId": "39c580ad-fe65-46af-91a2-e6b899726c9a"
      },
      "execution_count": 8,
      "outputs": [
        {
          "output_type": "stream",
          "name": "stdout",
          "text": [
            "Before calling function:\n",
            "number = 50\n",
            "numbers_list = [1, 2, 3]\n",
            "Inside function before modification:\n",
            "num = 50\n",
            "my_list = [1, 2, 3]\n",
            "\n",
            "Inside function after modification:\n",
            "num = 60\n",
            "my_list = [1, 2, 3, 100]\n",
            "\n",
            "After calling function:\n",
            "number = 50\n",
            "numbers_list = [1, 2, 3, 100]\n"
          ]
        }
      ]
    },
    {
      "cell_type": "markdown",
      "source": [
        "7. Write a program that performs basic arithmetic operations on two user-input numbers.\n",
        "\n"
      ],
      "metadata": {
        "id": "2X_Ws9enBBTK"
      }
    },
    {
      "cell_type": "code",
      "source": [
        "# Program to perform basic arithmetic operations\n",
        "\n",
        "# Taking user input\n",
        "num1 = float(input(\"Enter the first number: \"))\n",
        "num2 = float(input(\"Enter the second number: \"))\n",
        "\n",
        "print(\"\\n--- Arithmetic Operations ---\")\n",
        "\n",
        "# Addition\n",
        "print(f\"{num1} + {num2} = {num1 + num2}\")\n",
        "\n",
        "# Subtraction\n",
        "print(f\"{num1} - {num2} = {num1 - num2}\")\n",
        "\n",
        "# Multiplication\n",
        "print(f\"{num1} * {num2} = {num1 * num2}\")\n",
        "\n",
        "# Division (check for zero to avoid error)\n",
        "if num2 != 0:\n",
        "    print(f\"{num1} / {num2} = {num1 / num2}\")\n",
        "else:\n",
        "    print(\"Division by zero is not allowed!\")\n",
        "\n",
        "# Modulus (check for zero to avoid error)\n",
        "if num2 != 0:\n",
        "    print(f\"{num1} % {num2} = {num1 % num2}\")\n",
        "else:\n",
        "    print(\"Modulus by zero is not allowed!\")\n"
      ],
      "metadata": {
        "colab": {
          "base_uri": "https://localhost:8080/"
        },
        "id": "duw07TRtBOCq",
        "outputId": "1540030e-072b-4496-c5be-bd5ff2212ddc"
      },
      "execution_count": 9,
      "outputs": [
        {
          "output_type": "stream",
          "name": "stdout",
          "text": [
            "Enter the first number: 1\n",
            "Enter the second number: 2\n",
            "\n",
            "--- Arithmetic Operations ---\n",
            "1.0 + 2.0 = 3.0\n",
            "1.0 - 2.0 = -1.0\n",
            "1.0 * 2.0 = 2.0\n",
            "1.0 / 2.0 = 0.5\n",
            "1.0 % 2.0 = 1.0\n"
          ]
        }
      ]
    },
    {
      "cell_type": "markdown",
      "source": [
        "8.  Write a program to demonstrate the use of logical operators."
      ],
      "metadata": {
        "id": "_3M77JnCBYJh"
      }
    },
    {
      "cell_type": "code",
      "source": [
        "# Program to demonstrate logical operators\n",
        "\n",
        "a = True\n",
        "b = False\n",
        "\n",
        "print(\"--- Demonstrating Logical Operators ---\")\n",
        "\n",
        "# AND operator\n",
        "print(f\"{a} and {b} = {a and b}\")\n",
        "print(f\"{a} and {a} = {a and a}\")\n",
        "\n",
        "# OR operator\n",
        "print(f\"{a} or {b} = {a or b}\")\n",
        "print(f\"{b} or {b} = {b or b}\")\n",
        "\n",
        "# NOT operator\n",
        "print(f\"not {a} = {not a}\")\n",
        "print(f\"not {b} = {not b}\")\n",
        "\n",
        "print(\"\\n--- Practical Example with Numbers ---\")\n",
        "x = 10\n",
        "y = 5\n",
        "\n",
        "print(f\"(x > 0) and (y > 0) → {(x > 0) and (y > 0)}\")  # both true\n",
        "print(f\"(x > 0) or (y < 0) → {(x > 0) or (y < 0)}\")   # one true\n",
        "print(f\"not (x > y) → {not (x > y)}\")                 # reverse the result\n"
      ],
      "metadata": {
        "colab": {
          "base_uri": "https://localhost:8080/"
        },
        "id": "bl-XMaoDBg4C",
        "outputId": "664749a2-126f-49d7-ab61-4a974f5a5b29"
      },
      "execution_count": 10,
      "outputs": [
        {
          "output_type": "stream",
          "name": "stdout",
          "text": [
            "--- Demonstrating Logical Operators ---\n",
            "True and False = False\n",
            "True and True = True\n",
            "True or False = True\n",
            "False or False = False\n",
            "not True = False\n",
            "not False = True\n",
            "\n",
            "--- Practical Example with Numbers ---\n",
            "(x > 0) and (y > 0) → True\n",
            "(x > 0) or (y < 0) → True\n",
            "not (x > y) → False\n"
          ]
        }
      ]
    },
    {
      "cell_type": "markdown",
      "source": [
        "9.  Write a Python program to convert user input from string to integer, float, and boolean types."
      ],
      "metadata": {
        "id": "kuCuK7_rBn0L"
      }
    },
    {
      "cell_type": "code",
      "source": [
        "# Program to convert user input into int, float, and bool\n",
        "\n",
        "# Take input from user (always stored as a string by default)\n",
        "user_input = input(\"Enter a value: \")\n",
        "\n",
        "print(\"\\n--- Type Conversions ---\")\n",
        "\n",
        "# Convert to integer (only works if input is a valid number)\n",
        "try:\n",
        "    int_value = int(user_input)\n",
        "    print(f\"Integer conversion: {int_value} (type: {type(int_value)})\")\n",
        "except ValueError:\n",
        "    print(\"Cannot convert to integer.\")\n",
        "\n",
        "# Convert to float (works for integers and decimal numbers)\n",
        "try:\n",
        "    float_value = float(user_input)\n",
        "    print(f\"Float conversion: {float_value} (type: {type(float_value)})\")\n",
        "except ValueError:\n",
        "    print(\"Cannot convert to float.\")\n",
        "\n",
        "# Convert to boolean\n",
        "# In Python, bool('') → False, bool('anything') → True\n",
        "bool_value = bool(user_input)\n",
        "print(f\"Boolean conversion: {bool_value} (type: {type(bool_value)})\")\n"
      ],
      "metadata": {
        "colab": {
          "base_uri": "https://localhost:8080/"
        },
        "id": "x9Mnp9aKBzzB",
        "outputId": "390a61e4-ac9e-4d78-d704-f78816a55a32"
      },
      "execution_count": 11,
      "outputs": [
        {
          "output_type": "stream",
          "name": "stdout",
          "text": [
            "Enter a value: 1\n",
            "\n",
            "--- Type Conversions ---\n",
            "Integer conversion: 1 (type: <class 'int'>)\n",
            "Float conversion: 1.0 (type: <class 'float'>)\n",
            "Boolean conversion: True (type: <class 'bool'>)\n"
          ]
        }
      ]
    },
    {
      "cell_type": "markdown",
      "source": [
        "10. Write code to demonstrate type casting with list elements."
      ],
      "metadata": {
        "id": "AXrI8YSoB50a"
      }
    },
    {
      "cell_type": "code",
      "source": [
        "# Program to demonstrate type casting with list elements\n",
        "\n",
        "# Original list (strings)\n",
        "str_list = [\"10\", \"20\", \"30\", \"40\"]\n",
        "print(\"Original String List:\", str_list)\n",
        "\n",
        "# Convert string list to integers\n",
        "int_list = [int(x) for x in str_list]\n",
        "print(\"After casting to integers:\", int_list)\n",
        "\n",
        "# Convert string list to floats\n",
        "float_list = [float(x) for x in str_list]\n",
        "print(\"After casting to floats:\", float_list)\n",
        "\n",
        "# Convert integers back to strings\n",
        "str_again = [str(x) for x in int_list]\n",
        "print(\"Integers back to strings:\", str_again)\n",
        "\n",
        "# Convert integers to booleans (0 → False, non-zero → True)\n",
        "bool_list = [bool(x) for x in int_list]\n",
        "print(\"After casting to booleans:\", bool_list)\n"
      ],
      "metadata": {
        "colab": {
          "base_uri": "https://localhost:8080/"
        },
        "id": "Laet_yQDCAhP",
        "outputId": "53befd76-c97e-4c16-92b2-a2c4379fa2bd"
      },
      "execution_count": 12,
      "outputs": [
        {
          "output_type": "stream",
          "name": "stdout",
          "text": [
            "Original String List: ['10', '20', '30', '40']\n",
            "After casting to integers: [10, 20, 30, 40]\n",
            "After casting to floats: [10.0, 20.0, 30.0, 40.0]\n",
            "Integers back to strings: ['10', '20', '30', '40']\n",
            "After casting to booleans: [True, True, True, True]\n"
          ]
        }
      ]
    },
    {
      "cell_type": "markdown",
      "source": [
        "11. Write a program that checks if a number is positive, negative, or zero."
      ],
      "metadata": {
        "id": "2FZHXxzOCIEM"
      }
    },
    {
      "cell_type": "code",
      "source": [
        "# Program to check if a number is positive, negative, or zero\n",
        "\n",
        "# Take user input\n",
        "num = float(input(\"Enter a number: \"))\n",
        "\n",
        "# Check conditions\n",
        "if num > 0:\n",
        "    print(f\"{num} is Positive.\")\n",
        "elif num < 0:\n",
        "    print(f\"{num} is Negative.\")\n",
        "else:\n",
        "    print(\"The number is Zero.\")\n"
      ],
      "metadata": {
        "colab": {
          "base_uri": "https://localhost:8080/"
        },
        "id": "ssTj06HxCQ7v",
        "outputId": "2d7e4617-54c9-4430-dc73-1348328f9e17"
      },
      "execution_count": 13,
      "outputs": [
        {
          "output_type": "stream",
          "name": "stdout",
          "text": [
            "Enter a number: 1\n",
            "1.0 is Positive.\n"
          ]
        }
      ]
    },
    {
      "cell_type": "markdown",
      "source": [
        "12. Write a for loop to print numbers from 1 to 10."
      ],
      "metadata": {
        "id": "mLtCKYmhCZT0"
      }
    },
    {
      "cell_type": "code",
      "source": [
        "# Program to print numbers from 1 to 10\n",
        "\n",
        "for i in range(1, 11):   # range(start, stop) → stop is excluded\n",
        "    print(i)\n"
      ],
      "metadata": {
        "colab": {
          "base_uri": "https://localhost:8080/"
        },
        "id": "V9HKDUU3CeRr",
        "outputId": "f9b42400-a327-4752-cae1-729f08776761"
      },
      "execution_count": 14,
      "outputs": [
        {
          "output_type": "stream",
          "name": "stdout",
          "text": [
            "1\n",
            "2\n",
            "3\n",
            "4\n",
            "5\n",
            "6\n",
            "7\n",
            "8\n",
            "9\n",
            "10\n"
          ]
        }
      ]
    },
    {
      "cell_type": "markdown",
      "source": [
        "13. Write a Python program to find the sum of all even numbers between 1 and 50."
      ],
      "metadata": {
        "id": "KpxJlM12ClFO"
      }
    },
    {
      "cell_type": "code",
      "source": [
        "# Program to find the sum of even numbers between 1 and 50\n",
        "\n",
        "total = 0\n",
        "\n",
        "for i in range(2, 51, 2):  # start=2, stop=51, step=2 (even numbers only)\n",
        "    total += i\n",
        "\n",
        "print(\"Sum of even numbers between 1 and 50 is:\", total)\n"
      ],
      "metadata": {
        "colab": {
          "base_uri": "https://localhost:8080/"
        },
        "id": "dClNIZ4KCp_v",
        "outputId": "0afad3cd-a624-441f-9bab-38968a0631f2"
      },
      "execution_count": 15,
      "outputs": [
        {
          "output_type": "stream",
          "name": "stdout",
          "text": [
            "Sum of even numbers between 1 and 50 is: 650\n"
          ]
        }
      ]
    },
    {
      "cell_type": "markdown",
      "source": [
        "14. Write a program to reverse a string using a while loop"
      ],
      "metadata": {
        "id": "-7od_YvpCxNx"
      }
    },
    {
      "cell_type": "code",
      "source": [
        "# Program to reverse a string using while loop\n",
        "\n",
        "# Take user input\n",
        "text = input(\"Enter a string: \")\n",
        "\n",
        "# Initialize variables\n",
        "reversed_str = \"\"\n",
        "index = len(text) - 1\n",
        "\n",
        "# Loop backwards through the string\n",
        "while index >= 0:\n",
        "    reversed_str += text[index]\n",
        "    index -= 1\n",
        "\n",
        "print(\"Reversed string:\", reversed_str)\n"
      ],
      "metadata": {
        "colab": {
          "base_uri": "https://localhost:8080/"
        },
        "id": "BSCJNPMkC-_i",
        "outputId": "53342949-50a2-4db5-95a3-468747542918"
      },
      "execution_count": 16,
      "outputs": [
        {
          "output_type": "stream",
          "name": "stdout",
          "text": [
            "Enter a string: 2\n",
            "Reversed string: 2\n"
          ]
        }
      ]
    },
    {
      "cell_type": "markdown",
      "source": [
        "15.  Write a Python program to calculate the factorial of a number provided by the user using a while loop."
      ],
      "metadata": {
        "id": "dHQl2__nDIR4"
      }
    },
    {
      "cell_type": "code",
      "source": [
        "# Program to calculate factorial using while loop\n",
        "\n",
        "# Take input from user\n",
        "num = int(input(\"Enter a number: \"))\n",
        "\n",
        "# Initialize variables\n",
        "factorial = 1\n",
        "i = 1\n",
        "\n",
        "# Factorial logic with while loop\n",
        "while i <= num:\n",
        "    factorial *= i\n",
        "    i += 1\n",
        "\n",
        "print(f\"Factorial of {num} is {factorial}\")\n"
      ],
      "metadata": {
        "colab": {
          "base_uri": "https://localhost:8080/"
        },
        "id": "lntEH2oBDObd",
        "outputId": "f8216295-d48d-4619-edec-a2275d98142b"
      },
      "execution_count": 17,
      "outputs": [
        {
          "output_type": "stream",
          "name": "stdout",
          "text": [
            "Enter a number: 3\n",
            "Factorial of 3 is 6\n"
          ]
        }
      ]
    }
  ]
}