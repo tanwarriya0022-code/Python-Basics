{
  "nbformat": 4,
  "nbformat_minor": 0,
  "metadata": {
    "colab": {
      "provenance": []
    },
    "kernelspec": {
      "name": "python3",
      "display_name": "Python 3"
    },
    "language_info": {
      "name": "python"
    }
  },
  "cells": [
    {
      "cell_type": "code",
      "execution_count": null,
      "metadata": {
        "id": "aU7kfXFEjexw"
      },
      "outputs": [],
      "source": []
    },
    {
      "cell_type": "markdown",
      "source": [
        "1. What is Object-Oriented Programming (OOP)?\n",
        "\n",
        "- Object-Oriented Programming (OOP) is a programming paradigm that organizes software design around objects, rather than functions or logic.\n",
        "\n",
        "- These objects represent real-world entities — such as a person, car, or bank account — and combine data (attributes) and behavior (methods) into a single unit."
      ],
      "metadata": {
        "id": "FdiBS9pTkKEu"
      }
    },
    {
      "cell_type": "markdown",
      "source": [
        "2. what is a class in OOP?\n",
        "- A class is a blueprint or template used to create objects in Object-Oriented Programming.\n",
        "- It defines the data (attributes) and functions (methods) that describe and control the behavior of those objects."
      ],
      "metadata": {
        "id": "SYSqsOuEkpOb"
      }
    },
    {
      "cell_type": "markdown",
      "source": [
        "3. What is an object in OOP?\n",
        "- An object is an instance of a class — it is a real-world entity that has data (attributes) and behavior (methods) defined by its class."
      ],
      "metadata": {
        "id": "fzz8eRj1lt9w"
      }
    },
    {
      "cell_type": "markdown",
      "source": [
        "4. What is the difference between abstraction and encapsulation?\n",
        "- Abstraction in OOP means showing only the essential features of an object while hiding the complex implementation details.\n",
        "- Encapsulation means binding data and methods together within a class and restricting direct access to the internal data."
      ],
      "metadata": {
        "id": "N1f0VUy0mFfQ"
      }
    },
    {
      "cell_type": "markdown",
      "source": [
        "5.  What are dunder methods in Python?\n",
        "- Dunder methods (short for Double UNDerscore methods) are special built-in methods in Python that have double underscores before and after their names, like __init__, __str__, or __len__."
      ],
      "metadata": {
        "id": "J0RGoAJona-P"
      }
    },
    {
      "cell_type": "markdown",
      "source": [
        "6. Explain the concept of inheritance in OOP?\n",
        "- Inheritance is one of the most important concepts in OOP.\n",
        "It allows a new class (child or subclass) to acquire the properties and behaviors (methods and attributes) of an existing class (parent or base class)."
      ],
      "metadata": {
        "id": "LZZ-1W8_n0r3"
      }
    },
    {
      "cell_type": "markdown",
      "source": [
        "7.  What is polymorphism in OOP?\n",
        "- Polymorphism is a core concept in OOP that means “many forms.”\n",
        "It allows one interface to be used for different types of objects, so the same function or method can behave differently depending on the object that calls it."
      ],
      "metadata": {
        "id": "yz7Y6nBIoNX2"
      }
    },
    {
      "cell_type": "markdown",
      "source": [
        "8. How is encapsulation achieved in Python?\n",
        "- Encapsulation in Python is achieved by binding data (variables) and methods (functions) together into a single unit a class and by restricting direct access to some of the object’s data.\n",
        "\n",
        "- This helps in protecting the data from being accidentally modified and keeps the internal workings of a class hidden from the outside world."
      ],
      "metadata": {
        "id": "B0f-5wHiociT"
      }
    },
    {
      "cell_type": "markdown",
      "source": [
        "9. What is a constructor in Python?\n",
        "- A constructor helps set up the initial state of an object — just like preparing a new house before you move in."
      ],
      "metadata": {
        "id": "2lTJyMOBo75V"
      }
    },
    {
      "cell_type": "markdown",
      "source": [
        "10. What are class and static methods in Python?\n",
        "- A class method is a method that acts on the class itself, rather than on an instance of the class.\n",
        "\n",
        "   -Defined using the @classmethod decorator.\n",
        "\n",
        "   -The first parameter is always cls, which refers to the class.\n",
        "\n",
        "- A static method is a method that does not act on the instance or the class.\n",
        "\n",
        "  -Defined using the @staticmethod decorator.\n",
        "\n",
        "  -It does not take self or cls as the first parameter."
      ],
      "metadata": {
        "id": "7HqRDnP5pJCp"
      }
    },
    {
      "cell_type": "markdown",
      "source": [
        "11. What is method overloading in Python?\n",
        "- Method Overloading is a concept in programming where two or more methods in the same class have the same name but different parameters (different number or type of arguments)."
      ],
      "metadata": {
        "id": "ZDbJN-Popdmc"
      }
    },
    {
      "cell_type": "markdown",
      "source": [
        "12. What is method overriding in OOP?\n",
        "- Method overriding is a feature in Object-Oriented Programming where a child class provides its own implementation of a method that is already defined in its parent class."
      ],
      "metadata": {
        "id": "z1CMVQPiql_f"
      }
    },
    {
      "cell_type": "markdown",
      "source": [
        "13. H What is a property decorator in Python?\n",
        "- In Python, a property decorator (property) is a built-in decorator that allows you to access a method like an attribute."
      ],
      "metadata": {
        "id": "3QsBl6NTq0s2"
      }
    },
    {
      "cell_type": "markdown",
      "source": [
        "14. Why is polymorphism important in OOP?\n",
        "- Polymorphism is a core principle of Object-Oriented Programming that allows the same interface or method to work with different types of objects. Its importance lies in the flexibility, reusability, and scalability it brings to software design."
      ],
      "metadata": {
        "id": "kPRsZ-u2rcJ8"
      }
    },
    {
      "cell_type": "markdown",
      "source": [
        "15.  What is an abstract class in Python?\n",
        "- An abstract class in Python is a class that cannot be instantiated directly and is meant to be a blueprint for other classes."
      ],
      "metadata": {
        "id": "ALGLxnx-sOdk"
      }
    },
    {
      "cell_type": "markdown",
      "source": [
        "16. What are the advantages of OOP?\n",
        "- Object-Oriented Programming (OOP) offers several benefits that make software design more modular, reusable, and easier to maintain."
      ],
      "metadata": {
        "id": "fhjH-nczs-zf"
      }
    },
    {
      "cell_type": "markdown",
      "source": [
        "17. What is the difference between a class variable and an instance variable?\n",
        "\n",
        " **1. Instance Variable**\n",
        "\n",
        "  -Belongs to a specific object (instance of a class).\n",
        "\n",
        "  -Defined inside the constructor (__init__) using self.\n",
        "\n",
        "  **2. Class Variable**\n",
        "\n",
        " -Belongs to the class itself, shared by all instances of the class.\n",
        "\n",
        " -Defined inside the class but outside any method."
      ],
      "metadata": {
        "id": "sQR2JQjgtOlA"
      }
    },
    {
      "cell_type": "markdown",
      "source": [
        "18. What is multiple inheritance in Python?\n",
        "- Multiple inheritance is a feature in Python where a child class can inherit from more than one parent class.\n",
        "This allows the child class to reuse attributes and methods from multiple parent classes, combining their functionalities."
      ],
      "metadata": {
        "id": "atmWV8J9t4fY"
      }
    },
    {
      "cell_type": "markdown",
      "source": [
        "19. Explain the purpose of ‘’__str__’ and ‘__repr__’ ‘ methods in Python?\n",
        "\n",
        "-  **__repr__ (Representation)**\n",
        "\n",
        "   - To give an unambiguous string representation of the object that could ideally be used to recreate the object.\n",
        "\n",
        " - ** __str__ (String)**\n",
        "\n",
        "   - To give a readable, user-friendly string representation of the object.\n",
        "\n",
        "\n",
        "\n"
      ],
      "metadata": {
        "id": "x3nm2HDcuGP9"
      }
    },
    {
      "cell_type": "markdown",
      "source": [
        "20. What is the significance of the ‘super()’ function in Python?\n",
        " - The super() function in Python is a built-in function that allows you to call a method from a parent (or superclass) inside a child (or subclass). It’s particularly significant in inheritance and method overriding scenarios."
      ],
      "metadata": {
        "id": "nS0U5QdCvP5x"
      }
    },
    {
      "cell_type": "markdown",
      "source": [
        "21.  What is the significance of the __del__ method in Python?\n",
        "\n",
        "- It is automatically called when an object’s reference count drops to zero (no more references to the object exist).\n",
        "\n",
        "- It is mainly used to clean up resources that the object was using, like files, network connections, or database connections."
      ],
      "metadata": {
        "id": "XZ30CvCqwMc5"
      }
    },
    {
      "cell_type": "markdown",
      "source": [
        "22.  What is the difference between @staticmethod and @classmethod in Python?\n",
        "\n",
        "-  @staticmethod\n",
        "\n",
        "   -  Definition: A method that does not access the instance (self) or class (cls).\n",
        "\n",
        "   -    Usage: It behaves like a regular function, but logically belongs to the class.\n",
        "\n",
        "   -    Call: Can be called on the class or an instance.\n",
        "\n",
        "- 2. @classmethod\n",
        "\n",
        "   -    Definition: A method that takes the class (cls) as the first argument, instead of the instance.\n",
        "\n",
        "   -    Usage: Can access or modify class variables, or create alternate constructors.\n",
        "\n",
        "   -    Call: Can be called on the class or an instance."
      ],
      "metadata": {
        "id": "T_DMgys9wiZy"
      }
    },
    {
      "cell_type": "markdown",
      "source": [
        "23. How does polymorphism work in Python with inheritance?\n",
        "- Parent class defines a method.\n",
        "\n",
        "- Child classes override that method to provide their own implementation.\n",
        "\n",
        "- You can use a parent class reference to call the method on any child object.\n",
        "\n",
        "- Python automatically determines which method to execute based on the object’s actual class.\n"
      ],
      "metadata": {
        "id": "kaglgpNYxKIF"
      }
    },
    {
      "cell_type": "markdown",
      "source": [
        "24. What is method chaining in Python OOP?\n",
        "- Method chaining in Python OOP is a technique that allows you to call multiple methods on the same object in a single line, one after another.\n",
        "\n",
        "- It’s possible because each method returns the object itself (self), so the next method can be called immediately on the same object."
      ],
      "metadata": {
        "id": "SA_vy7s0yNRx"
      }
    },
    {
      "cell_type": "markdown",
      "source": [
        "25.  What is the purpose of the __call__ method in Python?\n",
        "\n",
        "- Makes an object callable (you can use parentheses () on it).\n",
        "\n",
        "- Useful when you want to encapsulate some behavior inside an object but still call it like a function.\n",
        "\n",
        "- Can be used for function-like objects, decorators, or stateful functions."
      ],
      "metadata": {
        "id": "O_JnOUEJydQT"
      }
    },
    {
      "cell_type": "markdown",
      "source": [
        "**PRACTICAL QUESTIONS **"
      ],
      "metadata": {
        "id": "NGawqK-Wvd7S"
      }
    },
    {
      "cell_type": "markdown",
      "source": [
        "1.  Create a parent class Animal with a method speak() that prints a generic message. Create a child class Dog\n",
        "that overrides the speak() method to print \"Bark!\"."
      ],
      "metadata": {
        "id": "UXD1y3iio3_Y"
      }
    },
    {
      "cell_type": "code",
      "source": [
        "# Parent class\n",
        "class Animal:\n",
        "    def speak(self):\n",
        "        print(\"Some generic animal sound\")\n",
        "\n",
        "# Child class\n",
        "class Dog(Animal):\n",
        "    def speak(self):\n",
        "        print(\"Bark!\")\n",
        "\n",
        "# Testing the classes\n",
        "animal = Animal()\n",
        "animal.speak()  # Output: Some generic animal sound\n",
        "\n",
        "dog = Dog()\n",
        "dog.speak()"
      ],
      "metadata": {
        "colab": {
          "base_uri": "https://localhost:8080/"
        },
        "id": "PKF4Q56szgEg",
        "outputId": "25c03865-2b81-4faf-89e5-9c5195999da1"
      },
      "execution_count": 7,
      "outputs": [
        {
          "output_type": "stream",
          "name": "stdout",
          "text": [
            "Some generic animal sound\n",
            "Bark!\n"
          ]
        }
      ]
    },
    {
      "cell_type": "markdown",
      "source": [
        "2.  Write a program to create an abstract class Shape with a method area(). Derive classes Circle and Rectangle\n",
        "from it and implement the area() method in both.\n",
        "\n",
        "\n"
      ],
      "metadata": {
        "id": "17D4RQRizgvf"
      }
    },
    {
      "cell_type": "code",
      "source": [
        "from abc import ABC, abstractmethod\n",
        "import math\n",
        "\n",
        "# Abstract class\n",
        "class Shape(ABC):\n",
        "    @abstractmethod\n",
        "    def area(self):\n",
        "        pass  # Abstract method, must be implemented by subclasses\n",
        "\n",
        "# Circle class\n",
        "class Circle(Shape):\n",
        "    def __init__(self, radius):\n",
        "        self.radius = radius\n",
        "\n",
        "    def area(self):\n",
        "        return math.pi * self.radius ** 2\n",
        "\n",
        "# Rectangle class\n",
        "class Rectangle(Shape):\n",
        "    def __init__(self, length, width):\n",
        "        self.length = length\n",
        "        self.width = width\n",
        "\n",
        "    def area(self):\n",
        "        return self.length * self.width\n",
        "\n",
        "# Testing\n",
        "c = Circle(5)\n",
        "r = Rectangle(4, 6)\n",
        "\n",
        "print(\"Area of Circle:\", c.area())\n",
        "print(\"Area of Rectangle:\", r.area())"
      ],
      "metadata": {
        "colab": {
          "base_uri": "https://localhost:8080/"
        },
        "id": "8C5ePc1g1uOw",
        "outputId": "616849d0-3d36-4f8f-dd46-57b1d6eeb304"
      },
      "execution_count": 8,
      "outputs": [
        {
          "output_type": "stream",
          "name": "stdout",
          "text": [
            "Area of Circle: 78.53981633974483\n",
            "Area of Rectangle: 24\n"
          ]
        }
      ]
    },
    {
      "cell_type": "markdown",
      "source": [
        "3.  Implement a multi-level inheritance scenario where a class Vehicle has an attribute type. Derive a class Car\n",
        "and further derive a class ElectricCar that adds a battery attribute."
      ],
      "metadata": {
        "id": "C4DaonGUzmTZ"
      }
    },
    {
      "cell_type": "code",
      "source": [
        "# Parent class\n",
        "class Vehicle:\n",
        "    def __init__(self, vehicle_type):\n",
        "        self.type = vehicle_type\n",
        "\n",
        "# Child class\n",
        "class Car(Vehicle):\n",
        "    def __init__(self, vehicle_type, brand):\n",
        "        super().__init__(vehicle_type)  # Initialize Vehicle part\n",
        "        self.brand = brand\n",
        "\n",
        "# Grandchild class\n",
        "class ElectricCar(Car):\n",
        "    def __init__(self, vehicle_type, brand, battery_capacity):\n",
        "        super().__init__(vehicle_type, brand)  # Initialize Car part\n",
        "        self.battery = battery_capacity\n",
        "\n",
        "    def display_info(self):\n",
        "        print(f\"Type: {self.type}, Brand: {self.brand}, Battery: {self.battery} kWh\")\n",
        "\n",
        "# Testing\n",
        "ecar = ElectricCar(\"Car\", \"Tesla\", 100)\n",
        "ecar.display_info()"
      ],
      "metadata": {
        "colab": {
          "base_uri": "https://localhost:8080/"
        },
        "id": "qqSOkjf7zr4o",
        "outputId": "e698a0d3-d8fb-4074-e71f-6d1ae595d874"
      },
      "execution_count": 9,
      "outputs": [
        {
          "output_type": "stream",
          "name": "stdout",
          "text": [
            "Type: Car, Brand: Tesla, Battery: 100 kWh\n"
          ]
        }
      ]
    },
    {
      "cell_type": "markdown",
      "source": [
        "4.  Demonstrate polymorphism by creating a base class Bird with a method fly(). Create two derived classes\n",
        "Sparrow and Penguin that override the fly() method.\n"
      ],
      "metadata": {
        "id": "CS_caanhzs_v"
      }
    },
    {
      "cell_type": "code",
      "source": [
        "# Base class\n",
        "class Bird:\n",
        "    def fly(self):\n",
        "        print(\"Some birds can fly\")\n",
        "\n",
        "# Derived class 1\n",
        "class Sparrow(Bird):\n",
        "    def fly(self):\n",
        "        print(\"Sparrow can fly high\")\n",
        "\n",
        "# Derived class 2\n",
        "class Penguin(Bird):\n",
        "    def fly(self):\n",
        "        print(\"Penguin cannot fly, it swims\")\n",
        "\n",
        "# Demonstrating polymorphism\n",
        "birds = [Sparrow(), Penguin(), Bird()]\n",
        "\n",
        "for bird in birds:\n",
        "    bird.fly()"
      ],
      "metadata": {
        "colab": {
          "base_uri": "https://localhost:8080/"
        },
        "id": "sTpQEmyWzxa8",
        "outputId": "b8bc6631-56db-4ee6-f77a-490839c72833"
      },
      "execution_count": 10,
      "outputs": [
        {
          "output_type": "stream",
          "name": "stdout",
          "text": [
            "Sparrow can fly high\n",
            "Penguin cannot fly, it swims\n",
            "Some birds can fly\n"
          ]
        }
      ]
    },
    {
      "cell_type": "markdown",
      "source": [
        "5.  Write a program to demonstrate encapsulation by creating a class BankAccount with private attributes\n",
        "balance and methods to deposit, withdraw, and check balance."
      ],
      "metadata": {
        "id": "zaO7X-STzzWZ"
      }
    },
    {
      "cell_type": "code",
      "source": [
        "class BankAccount:\n",
        "    def __init__(self, initial_balance):\n",
        "        self.__balance = initial_balance  # Private attribute\n",
        "\n",
        "    # Method to deposit money\n",
        "    def deposit(self, amount):\n",
        "        if amount > 0:\n",
        "            self.__balance += amount\n",
        "            print(f\"Deposited: {amount}\")\n",
        "        else:\n",
        "            print(\"Deposit amount must be positive\")\n",
        "\n",
        "    # Method to withdraw money\n",
        "    def withdraw(self, amount):\n",
        "        if amount > 0:\n",
        "            if amount <= self.__balance:\n",
        "                self.__balance -= amount\n",
        "                print(f\"Withdrawn: {amount}\")\n",
        "            else:\n",
        "                print(\"Insufficient balance\")\n",
        "        else:\n",
        "            print(\"Withdrawal amount must be positive\")\n",
        "\n",
        "    # Method to check balance\n",
        "    def check_balance(self):\n",
        "        print(f\"Current balance: {self.__balance}\")\n",
        "\n",
        "# Testing the class\n",
        "account = BankAccount(1000)\n",
        "\n",
        "account.check_balance()  # Current balance: 1000\n",
        "account.deposit(500)     # Deposited: 500\n",
        "account.check_balance()  # Current balance: 1500\n",
        "account.withdraw(2000)   # Insufficient balance\n",
        "account.withdraw(300)    # Withdrawn: 300\n",
        "account.check_balance()  # Current balance: 1200\n",
        "\n",
        "# Trying to access private attribute directly (will fail)\n",
        "# print(account.__balance)  # AttributeError"
      ],
      "metadata": {
        "colab": {
          "base_uri": "https://localhost:8080/"
        },
        "id": "y403uz5az9Vn",
        "outputId": "4bd32775-445d-43e7-a5a8-d0e1ecfef20a"
      },
      "execution_count": 11,
      "outputs": [
        {
          "output_type": "stream",
          "name": "stdout",
          "text": [
            "Current balance: 1000\n",
            "Deposited: 500\n",
            "Current balance: 1500\n",
            "Insufficient balance\n",
            "Withdrawn: 300\n",
            "Current balance: 1200\n"
          ]
        }
      ]
    },
    {
      "cell_type": "markdown",
      "source": [
        "6. Demonstrate runtime polymorphism using a method play() in a base class Instrument. Derive classes Guitar\n",
        "and Piano that implement their own version of play()."
      ],
      "metadata": {
        "id": "-1BeXYbAz4iM"
      }
    },
    {
      "cell_type": "code",
      "source": [
        "# Base class\n",
        "class Instrument:\n",
        "    def play(self):\n",
        "        print(\"Some instrument is playing\")\n",
        "\n",
        "# Derived class 1\n",
        "class Guitar(Instrument):\n",
        "    def play(self):\n",
        "        print(\"Guitar is strumming\")\n",
        "\n",
        "# Derived class 2\n",
        "class Piano(Instrument):\n",
        "    def play(self):\n",
        "        print(\"Piano is playing melodiously\")\n",
        "\n",
        "# Demonstrating runtime polymorphism\n",
        "def perform(instrument):\n",
        "    instrument.play()  # The actual method called is decided at runtime\n",
        "\n",
        "# Creating objects\n",
        "g = Guitar()\n",
        "p = Piano()\n",
        "i = Instrument()\n",
        "\n",
        "# Using the perform function\n",
        "for instrument in [g, p, i]:\n",
        "    perform(instrument)"
      ],
      "metadata": {
        "colab": {
          "base_uri": "https://localhost:8080/"
        },
        "id": "qr9ayBw3z-dD",
        "outputId": "38b48e1c-4a03-4efd-d122-6bb1d2dbecfa"
      },
      "execution_count": 12,
      "outputs": [
        {
          "output_type": "stream",
          "name": "stdout",
          "text": [
            "Guitar is strumming\n",
            "Piano is playing melodiously\n",
            "Some instrument is playing\n"
          ]
        }
      ]
    },
    {
      "cell_type": "markdown",
      "source": [
        "7. Create a class MathOperations with a class method add_numbers() to add two numbers and a static\n",
        "method subtract_numbers() to subtract two numbers."
      ],
      "metadata": {
        "id": "40eaZ4PYz_J5"
      }
    },
    {
      "cell_type": "code",
      "source": [
        "class MathOperations:\n",
        "    # Class method\n",
        "    @classmethod\n",
        "    def add_numbers(cls, a, b):\n",
        "        return a + b\n",
        "\n",
        "    # Static method\n",
        "    @staticmethod\n",
        "    def subtract_numbers(a, b):\n",
        "        return a - b\n",
        "\n",
        "# Testing the methods\n",
        "# Using class method\n",
        "sum_result = MathOperations.add_numbers(10, 5)\n",
        "print(\"Sum:\", sum_result)  # Output: Sum: 15\n",
        "\n",
        "# Using static method\n",
        "sub_result = MathOperations.subtract_numbers(10, 5)\n",
        "print(\"Difference:\", sub_result)  # Output: Difference: 5\n",
        "\n",
        "# Methods can also be called from an instance\n",
        "math_obj = MathOperations()\n",
        "print(\"Sum via instance:\", math_obj.add_numbers(7, 3))        # 10\n",
        "print(\"Difference via instance:\", math_obj.subtract_numbers(7, 3))  # 4"
      ],
      "metadata": {
        "colab": {
          "base_uri": "https://localhost:8080/"
        },
        "id": "bo-edS070EVO",
        "outputId": "07b4ecfe-325c-4237-8802-e19f16bf075e"
      },
      "execution_count": 13,
      "outputs": [
        {
          "output_type": "stream",
          "name": "stdout",
          "text": [
            "Sum: 15\n",
            "Difference: 5\n",
            "Sum via instance: 10\n",
            "Difference via instance: 4\n"
          ]
        }
      ]
    },
    {
      "cell_type": "markdown",
      "source": [
        "8.  Implement a class Person with a class method to count the total number of persons created."
      ],
      "metadata": {
        "id": "Rko2Y0KC0E3K"
      }
    },
    {
      "cell_type": "code",
      "source": [
        "class Person:\n",
        "    # Class variable to keep track of total persons\n",
        "    total_persons = 0\n",
        "\n",
        "    def __init__(self, name):\n",
        "        self.name = name\n",
        "        Person.total_persons += 1  # Increment counter whenever a new person is created\n",
        "\n",
        "    # Class method to get total number of persons\n",
        "    @classmethod\n",
        "    def get_total_persons(cls):\n",
        "        return cls.total_persons\n",
        "\n",
        "# Creating Person objects\n",
        "p1 = Person(\"Alice\")\n",
        "p2 = Person(\"Bob\")\n",
        "p3 = Person(\"Charlie\")\n",
        "\n",
        "# Using class method to get total count\n",
        "print(\"Total persons created:\", Person.get_total_persons())"
      ],
      "metadata": {
        "colab": {
          "base_uri": "https://localhost:8080/"
        },
        "id": "_DNZ-KWQ0JPA",
        "outputId": "1c211d6c-4a22-4ad9-8686-5254425eccfa"
      },
      "execution_count": 14,
      "outputs": [
        {
          "output_type": "stream",
          "name": "stdout",
          "text": [
            "Total persons created: 3\n"
          ]
        }
      ]
    },
    {
      "cell_type": "markdown",
      "source": [
        "9. Write a class Fraction with attributes numerator and denominator. Override the str method to display the\n",
        "fraction as \"numerator/denominator\"."
      ],
      "metadata": {
        "id": "v_BbZ9Fl0LMQ"
      }
    },
    {
      "cell_type": "code",
      "source": [
        "class Fraction:\n",
        "    def __init__(self, numerator, denominator):\n",
        "        self.numerator = numerator\n",
        "        self.denominator = denominator\n",
        "\n",
        "    # Overriding __str__ method\n",
        "    def __str__(self):\n",
        "        return f\"{self.numerator}/{self.denominator}\"\n",
        "\n",
        "# Testing\n",
        "f1 = Fraction(3, 4)\n",
        "f2 = Fraction(5, 2)\n",
        "\n",
        "print(f1)  # Output: 3/4\n",
        "print(f2)  # Output: 5/2"
      ],
      "metadata": {
        "colab": {
          "base_uri": "https://localhost:8080/"
        },
        "id": "0S27zc7G0PML",
        "outputId": "4e3ed4d3-7d1a-44e5-efbe-54d70c484162"
      },
      "execution_count": 15,
      "outputs": [
        {
          "output_type": "stream",
          "name": "stdout",
          "text": [
            "3/4\n",
            "5/2\n"
          ]
        }
      ]
    },
    {
      "cell_type": "markdown",
      "source": [
        "10.  Demonstrate operator overloading by creating a class Vector and overriding the add method to add two\n",
        "vectors."
      ],
      "metadata": {
        "id": "dNUXkeYy0P13"
      }
    },
    {
      "cell_type": "code",
      "source": [
        "class Vector:\n",
        "    def __init__(self, x, y):\n",
        "        self.x = x\n",
        "        self.y = y\n",
        "\n",
        "    # Overriding the + operator\n",
        "    def __add__(self, other):\n",
        "        return Vector(self.x + other.x, self.y + other.y)\n",
        "\n",
        "    # Overriding __str__ for readable output\n",
        "    def __str__(self):\n",
        "        return f\"({self.x}, {self.y})\"\n",
        "\n",
        "# Testing\n",
        "v1 = Vector(2, 3)\n",
        "v2 = Vector(4, 5)\n",
        "\n",
        "v3 = v1 + v2  # Uses __add__ method\n",
        "print(\"v1 + v2 =\", v3)  # Output: v1 + v2 = (6, 8)"
      ],
      "metadata": {
        "colab": {
          "base_uri": "https://localhost:8080/"
        },
        "id": "8Mx9gBfe0VsW",
        "outputId": "4cb0cfb9-6af9-4582-8a8b-c0b42bcc660e"
      },
      "execution_count": 16,
      "outputs": [
        {
          "output_type": "stream",
          "name": "stdout",
          "text": [
            "v1 + v2 = (6, 8)\n"
          ]
        }
      ]
    },
    {
      "cell_type": "markdown",
      "source": [
        "11. Create a class Person with attributes name and age. Add a method greet() that prints \"Hello, my name is\n",
        "{name} and I am {age} years old.\""
      ],
      "metadata": {
        "id": "NxhvkfO_0Wix"
      }
    },
    {
      "cell_type": "code",
      "source": [
        "class Person:\n",
        "    def __init__(self, name, age):\n",
        "        self.name = name\n",
        "        self.age = age\n",
        "\n",
        "    # Method to greet\n",
        "    def greet(self):\n",
        "        print(f\"Hello, my name is {self.name} and I am {self.age} years old.\")\n",
        "\n",
        "# Testing\n",
        "p1 = Person(\"Alice\", 25)\n",
        "p2 = Person(\"Bob\", 30)\n",
        "\n",
        "p1.greet()\n",
        "p2.greet()"
      ],
      "metadata": {
        "colab": {
          "base_uri": "https://localhost:8080/"
        },
        "id": "rkpAOV0_0csc",
        "outputId": "937123e4-927a-4377-cec8-a160ffc945b5"
      },
      "execution_count": 19,
      "outputs": [
        {
          "output_type": "stream",
          "name": "stdout",
          "text": [
            "Hello, my name is Alice and I am 25 years old.\n",
            "Hello, my name is Bob and I am 30 years old.\n"
          ]
        }
      ]
    },
    {
      "cell_type": "markdown",
      "source": [
        "12. Implement a class Student with attributes name and grades. Create a method average_grade() to compute\n",
        "the average of the grades."
      ],
      "metadata": {
        "id": "bOTK6z-30dV3"
      }
    },
    {
      "cell_type": "code",
      "source": [
        "class Student:\n",
        "    def __init__(self, name, grades):\n",
        "        self.name = name\n",
        "        self.grades = grades  # List of grades\n",
        "\n",
        "    # Method to calculate average grade\n",
        "    def average_grade(self):\n",
        "        if not self.grades:\n",
        "            return 0  # Avoid division by zero\n",
        "        return sum(self.grades) / len(self.grades)\n",
        "\n",
        "# Testing\n",
        "s1 = Student(\"Alice\", [85, 90, 78])\n",
        "s2 = Student(\"Bob\", [92, 88, 79, 95])\n",
        "\n",
        "print(f\"{s1.name}'s average grade: {s1.average_grade():.2f}\")\n",
        "print(f\"{s2.name}'s average grade: {s2.average_grade():.2f}\")"
      ],
      "metadata": {
        "colab": {
          "base_uri": "https://localhost:8080/"
        },
        "id": "L2dFoHnR0iMg",
        "outputId": "9dd29878-c7f7-43cd-a854-94f1d7f0e0e9"
      },
      "execution_count": 20,
      "outputs": [
        {
          "output_type": "stream",
          "name": "stdout",
          "text": [
            "Alice's average grade: 84.33\n",
            "Bob's average grade: 88.50\n"
          ]
        }
      ]
    },
    {
      "cell_type": "markdown",
      "source": [
        "13. Create a class Rectangle with methods set_dimensions() to set the dimensions and area() to calculate the\n",
        "area."
      ],
      "metadata": {
        "id": "Lm-2hZTJ0i17"
      }
    },
    {
      "cell_type": "code",
      "source": [
        "class Rectangle:\n",
        "    def __init__(self):\n",
        "        self.length = 0\n",
        "        self.width = 0\n",
        "\n",
        "    # Method to set the dimensions\n",
        "    def set_dimensions(self, length, width):\n",
        "        self.length = length\n",
        "        self.width = width\n",
        "\n",
        "    # Method to calculate area\n",
        "    def area(self):\n",
        "        return self.length * self.width\n",
        "\n",
        "# Testing\n",
        "rect = Rectangle()\n",
        "rect.set_dimensions(5, 3)\n",
        "print(\"Area of rectangle:\", rect.area())"
      ],
      "metadata": {
        "colab": {
          "base_uri": "https://localhost:8080/"
        },
        "id": "vyuPNn6x0nGM",
        "outputId": "a99636f8-5168-41d0-88e9-5fb596c5dda8"
      },
      "execution_count": 21,
      "outputs": [
        {
          "output_type": "stream",
          "name": "stdout",
          "text": [
            "Area of rectangle: 15\n"
          ]
        }
      ]
    },
    {
      "cell_type": "markdown",
      "source": [
        "14.  Create a class Employee with a method calculate_salary() that computes the salary based on hours worked\n",
        "and hourly rate. Create a derived class Manager that adds a bonus to the salary."
      ],
      "metadata": {
        "id": "Zx6xYbVk0nuX"
      }
    },
    {
      "cell_type": "code",
      "source": [
        "# Base class\n",
        "class Employee:\n",
        "    def __init__(self, name, hours_worked, hourly_rate):\n",
        "        self.name = name\n",
        "        self.hours_worked = hours_worked\n",
        "        self.hourly_rate = hourly_rate\n",
        "\n",
        "    # Method to calculate salary\n",
        "    def calculate_salary(self):\n",
        "        return self.hours_worked * self.hourly_rate\n",
        "\n",
        "# Derived class\n",
        "class Manager(Employee):\n",
        "    def __init__(self, name, hours_worked, hourly_rate, bonus):\n",
        "        super().__init__(name, hours_worked, hourly_rate)  # Initialize Employee attributes\n",
        "        self.bonus = bonus\n",
        "\n",
        "    # Overriding calculate_salary to include bonus\n",
        "    def calculate_salary(self):\n",
        "        base_salary = super().calculate_salary()\n",
        "        return base_salary + self.bonus\n",
        "\n",
        "# Testing\n",
        "emp = Employee(\"Alice\", 40, 20)\n",
        "mgr = Manager(\"Bob\", 40, 25, 500)\n",
        "\n",
        "print(f\"{emp.name}'s salary: ${emp.calculate_salary()}\")\n",
        "print(f\"{mgr.name}'s salary: ${mgr.calculate_salary()}\")"
      ],
      "metadata": {
        "colab": {
          "base_uri": "https://localhost:8080/"
        },
        "id": "PGNAzu5x0r12",
        "outputId": "db45c1b8-6f11-40f4-c0c8-8045e728ee60"
      },
      "execution_count": 22,
      "outputs": [
        {
          "output_type": "stream",
          "name": "stdout",
          "text": [
            "Alice's salary: $800\n",
            "Bob's salary: $1500\n"
          ]
        }
      ]
    },
    {
      "cell_type": "markdown",
      "source": [
        "15. Create a class Product with attributes name, price, and quantity. Implement a method total_price() that\n",
        "calculates the total price of the product.\n",
        "\n",
        "\n"
      ],
      "metadata": {
        "id": "n9Tom3gs0set"
      }
    },
    {
      "cell_type": "code",
      "source": [
        "class Product:\n",
        "    def __init__(self, name, price, quantity):\n",
        "        self.name = name\n",
        "        self.price = price\n",
        "        self.quantity = quantity\n",
        "\n",
        "    # Method to calculate total price\n",
        "    def total_price(self):\n",
        "        return self.price * self.quantity\n",
        "\n",
        "# Testing\n",
        "p1 = Product(\"Laptop\", 500, 3)\n",
        "p2 = Product(\"Phone\", 300, 5)\n",
        "\n",
        "print(f\"Total price of {p1.name}: ${p1.total_price()}\")\n",
        "print(f\"Total price of {p2.name}: ${p2.total_price()}\")"
      ],
      "metadata": {
        "colab": {
          "base_uri": "https://localhost:8080/"
        },
        "id": "a2kmhlSw0x_8",
        "outputId": "6ce34a8e-cb05-4d1a-c71c-0704ac184870"
      },
      "execution_count": 23,
      "outputs": [
        {
          "output_type": "stream",
          "name": "stdout",
          "text": [
            "Total price of Laptop: $1500\n",
            "Total price of Phone: $1500\n"
          ]
        }
      ]
    },
    {
      "cell_type": "markdown",
      "source": [
        "16.  Create a class Animal with an abstract method sound(). Create two derived classes Cow and Sheep that\n",
        "implement the sound() method."
      ],
      "metadata": {
        "id": "M2XGhKfa0yiZ"
      }
    },
    {
      "cell_type": "code",
      "source": [
        "from abc import ABC, abstractmethod\n",
        "\n",
        "# Abstract base class\n",
        "class Animal(ABC):\n",
        "    @abstractmethod\n",
        "    def sound(self):\n",
        "        pass  # Abstract method, must be implemented by subclasses\n",
        "\n",
        "# Derived class 1\n",
        "class Cow(Animal):\n",
        "    def sound(self):\n",
        "        print(\"Cow says Moo!\")\n",
        "\n",
        "# Derived class 2\n",
        "class Sheep(Animal):\n",
        "    def sound(self):\n",
        "        print(\"Sheep says Baa!\")\n",
        "\n",
        "# Testing\n",
        "cow = Cow()\n",
        "sheep = Sheep()\n",
        "\n",
        "cow.sound()\n",
        "sheep.sound()"
      ],
      "metadata": {
        "colab": {
          "base_uri": "https://localhost:8080/"
        },
        "id": "PVPnrCRe02k9",
        "outputId": "fcf5708e-4c52-480d-aa3d-60526653b946"
      },
      "execution_count": 24,
      "outputs": [
        {
          "output_type": "stream",
          "name": "stdout",
          "text": [
            "Cow says Moo!\n",
            "Sheep says Baa!\n"
          ]
        }
      ]
    },
    {
      "cell_type": "markdown",
      "source": [
        "17.  Create a class Book with attributes title, author, and year_published. Add a method get_book_info() that\n",
        "returns a formatted string with the book's details.\n",
        "\n",
        "\n"
      ],
      "metadata": {
        "id": "Ir0-fn-q03C4"
      }
    },
    {
      "cell_type": "code",
      "source": [
        "class Book:\n",
        "    def __init__(self, title, author, year_published):\n",
        "        self.title = title\n",
        "        self.author = author\n",
        "        self.year_published = year_published\n",
        "\n",
        "    # Method to get book information\n",
        "    def get_book_info(self):\n",
        "        return f\"'{self.title}' by {self.author}, published in {self.year_published}\"\n",
        "\n",
        "# Testing\n",
        "b1 = Book(\"To Kill a Mockingbird\", \"Harper Lee\", 1960)\n",
        "b2 = Book(\"1984\", \"George Orwell\", 1949)\n",
        "\n",
        "print(b1.get_book_info())\n",
        "print(b2.get_book_info())"
      ],
      "metadata": {
        "colab": {
          "base_uri": "https://localhost:8080/"
        },
        "id": "UHt1yyfe080o",
        "outputId": "aac55e4b-eda0-4903-8fe6-6e748e8f4e32"
      },
      "execution_count": 25,
      "outputs": [
        {
          "output_type": "stream",
          "name": "stdout",
          "text": [
            "'To Kill a Mockingbird' by Harper Lee, published in 1960\n",
            "'1984' by George Orwell, published in 1949\n"
          ]
        }
      ]
    },
    {
      "cell_type": "markdown",
      "source": [
        "18.  Create a class House with attributes address and price. Create a derived class Mansion that adds an\n",
        "attribute number_of_rooms."
      ],
      "metadata": {
        "id": "rvVKhHT409bB"
      }
    },
    {
      "cell_type": "code",
      "source": [
        "# Base class\n",
        "class House:\n",
        "    def __init__(self, address, price):\n",
        "        self.address = address\n",
        "        self.price = price\n",
        "\n",
        "    def get_info(self):\n",
        "        return f\"Address: {self.address}, Price: ${self.price}\"\n",
        "\n",
        "# Derived class\n",
        "class Mansion(House):\n",
        "    def __init__(self, address, price, number_of_rooms):\n",
        "        super().__init__(address, price)  # Initialize base class attributes\n",
        "        self.number_of_rooms = number_of_rooms\n",
        "\n",
        "    def get_info(self):\n",
        "        base_info = super().get_info()\n",
        "        return f\"{base_info}, Number of rooms: {self.number_of_rooms}\"\n",
        "\n",
        "# Testing\n",
        "h = House(\"123 Main St\", 250000)\n",
        "m = Mansion(\"456 Luxury Ave\", 2000000, 10)\n",
        "\n",
        "print(h.get_info())\n",
        "print(m.get_info())"
      ],
      "metadata": {
        "colab": {
          "base_uri": "https://localhost:8080/"
        },
        "id": "ENBpB5il1A-J",
        "outputId": "ebfe0ea7-6cc9-40e7-a59f-f9f87057f428"
      },
      "execution_count": 26,
      "outputs": [
        {
          "output_type": "stream",
          "name": "stdout",
          "text": [
            "Address: 123 Main St, Price: $250000\n",
            "Address: 456 Luxury Ave, Price: $2000000, Number of rooms: 10\n"
          ]
        }
      ]
    }
  ]
}